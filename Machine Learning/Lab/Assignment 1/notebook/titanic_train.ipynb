{
 "cells": [],
 "metadata": {
  "kernelspec": {
   "display_name": "myVenv (3.13.1)",
   "language": "python",
   "name": "python3"
  },
  "language_info": {
   "name": "python",
   "version": "3.13.1"
  }
 },
 "nbformat": 4,
 "nbformat_minor": 5
}
